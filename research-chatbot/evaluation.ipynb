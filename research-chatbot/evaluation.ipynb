{
 "cells": [
  {
   "cell_type": "code",
   "execution_count": null,
   "id": "82235132-d56c-4be0-87aa-ee77e09100e4",
   "metadata": {},
   "outputs": [],
   "source": [
    "## Beeinflussen zufällige Wörter das Modell\n",
    "## Bestimmte Wörter gleich lassen, andere wechseln\n",
    "## Slang"
   ]
  },
  {
   "cell_type": "markdown",
   "id": "6e38e07a-845b-4d4e-b949-1ed3d9476702",
   "metadata": {},
   "source": [
    "# "
   ]
  }
 ],
 "metadata": {
  "kernelspec": {
   "display_name": "Python 3 (ipykernel)",
   "language": "python",
   "name": "python3"
  },
  "language_info": {
   "codemirror_mode": {
    "name": "ipython",
    "version": 3
   },
   "file_extension": ".py",
   "mimetype": "text/x-python",
   "name": "python",
   "nbconvert_exporter": "python",
   "pygments_lexer": "ipython3",
   "version": "3.9.2"
  }
 },
 "nbformat": 4,
 "nbformat_minor": 5
}
